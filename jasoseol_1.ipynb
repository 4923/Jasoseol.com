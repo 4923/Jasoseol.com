{
 "metadata": {
  "language_info": {
   "codemirror_mode": {
    "name": "ipython",
    "version": 3
   },
   "file_extension": ".py",
   "mimetype": "text/x-python",
   "name": "python",
   "nbconvert_exporter": "python",
   "pygments_lexer": "ipython3",
   "version": "3.8.3-final"
  },
  "orig_nbformat": 2,
  "kernelspec": {
   "name": "python38364bit108acccc12be41c290031639643a30de",
   "display_name": "Python 3.8.3 64-bit"
  }
 },
 "nbformat": 4,
 "nbformat_minor": 2,
 "cells": [
  {
   "cell_type": "markdown",
   "metadata": {},
   "source": [
    "## 자소설 닷컴\n",
    "\n",
    "Uni Lion django advanced class\n",
    "\n",
    "Clone coding https://jasoseol.com"
   ]
  },
  {
   "cell_type": "markdown",
   "metadata": {},
   "source": [
    "### 수강대상\n",
    "Uni-Lion: Dremary clonecoging을 완료한 사람 또는 CRUD를 실습한 사람\n",
    "\n"
   ]
  },
  {
   "cell_type": "markdown",
   "metadata": {},
   "source": [
    "### 우리가 만들 서비스\n",
    "멋쟁이 사자처럼에서 만든 서비스: 자소설 닷컴의 핵심기능을 클론코딩하며\n",
    "\n",
    "1. 회원가입\n",
    "\n",
    "2. 로그인 및 회원 대상 파생서비스\n",
    "\n",
    "3. 디테일 페이지\n",
    "* 회원 권한에 따라 모든 자소서, 내 자소서, 다른 사람의 자소서 열람페이지 각각 다르게 보이도록\n",
    "\n",
    "4. 댓글서비스\n",
    "\n",
    "4. 자소서 작성\n",
    "\n",
    "5. 자소서 관리\n",
    "\n"
   ]
  },
  {
   "cell_type": "markdown",
   "metadata": {},
   "source": [
    "### 집중할 포인트\n",
    "\n",
    "1. django 답게 코딩\n",
    "\n",
    "2. 데이터, 데이터베이스, 모델에 집중\n",
    "\n",
    "* 삭제 기능을 구현할 때 단순히 기능구현에 집중하지 말고 데이터를 삭제하는 개념으로 이해하기\n",
    "* 우리는 데이터를 다룬다! 데이터의 관점으로 기능 살펴보기!\n",
    "\n"
   ]
  },
  {
   "cell_type": "markdown",
   "metadata": {},
   "source": [
    "### django가 만들어놓은 기능?\n",
    "\n",
    "views.py의 render가 궁금하다면?\n",
    "\n",
    "* [Django official GitHub](https://github.com/django)"
   ]
  },
  {
   "cell_type": "markdown",
   "metadata": {},
   "source": [
    "1. Django Github에가면\n",
    "\n",
    "2. Django의 코드가 모두 올라와있는 [Django repo](https://github.com/django/django)가 있다\n",
    "\n",
    "3. 해당 repo에서 함수 등을 모아둔 폴더 [/django](https://github.com/django/django/tree/master/django)에서 찾는 페이지와 함수를 찾으면 된다\n",
    "\n",
    "4. render를 사용할 때 우리는 `from shortcuts import render`를 사용했으므로 `shortcuts.py`에서"
   ]
  },
  {
   "cell_type": "code",
   "execution_count": 8,
   "metadata": {},
   "outputs": [],
   "source": [
    "def render(request, template_name, context=None, content_type=None, status=None, using=None):\n",
    "    \"\"\"\n",
    "    Return a HttpResponse whose content is filled with the result of calling\n",
    "    django.template.loader.render_to_string() with the passed arguments.\n",
    "    \"\"\"\n",
    "    content = loader.render_to_string(template_name, context, request, using=using)\n",
    "    return HttpResponse(content, content_type, status)"
   ]
  },
  {
   "cell_type": "markdown",
   "metadata": {},
   "source": [
    "`render` 함수를 확인할 수 있다.\n",
    "\n",
    "`template name`과 `context`를 받아 (input) `HttpResponse`에 `content`를 담아 보내주는데 (return) 여기서 `HttpResponse`란?\n",
    "\n",
    "`django/http/response.py` 에서 정의된 `class`로 https protocol을 사용한 원초적인 응답이다"
   ]
  },
  {
   "cell_type": "markdown",
   "metadata": {},
   "source": [
    "또 `content`란 무엇이냐 `loader.render_to_string`으로 정의된 변수인데 `render_to_string`은?"
   ]
  },
  {
   "cell_type": "code",
   "execution_count": 10,
   "metadata": {},
   "outputs": [],
   "source": [
    "def render_to_string(template_name, context=None, request=None, using=None):\n",
    "    \"\"\"\n",
    "    Load a template and render it with a context. Return a string.\n",
    "    template_name may be a string or a list of strings.\n",
    "    \"\"\"\n",
    "    if isinstance(template_name, (list, tuple)):\n",
    "        template = select_template(template_name, using=using)\n",
    "    else:\n",
    "        template = get_template(template_name, using=using)\n",
    "    return template.render(context, request)"
   ]
  },
  {
   "cell_type": "markdown",
   "metadata": {},
   "source": [
    "`context`가 담긴 `template`를 `return`하는 함수"
   ]
  },
  {
   "cell_type": "markdown",
   "metadata": {},
   "source": [
    "즉, `render`는 `context`와 `template`를 받아와 http 응답을 하는 함수.\n",
    "\n",
    "이런식으로 django 공식 문서를 참고해가며 공부하자"
   ]
  }
 ]
}