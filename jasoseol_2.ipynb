{
 "metadata": {
  "language_info": {
   "codemirror_mode": {
    "name": "ipython",
    "version": 3
   },
   "file_extension": ".py",
   "mimetype": "text/x-python",
   "name": "python",
   "nbconvert_exporter": "python",
   "pygments_lexer": "ipython3",
   "version": "3.8.3-final"
  },
  "orig_nbformat": 2,
  "kernelspec": {
   "name": "python38364bit108acccc12be41c290031639643a30de",
   "display_name": "Python 3.8.3 64-bit"
  }
 },
 "nbformat": 4,
 "nbformat_minor": 2,
 "cells": [
  {
   "cell_type": "markdown",
   "metadata": {},
   "source": [
    "## 자소설 닷컴\n",
    "\n",
    "Uni Lion django advanced class\n",
    "\n",
    "Clone coding https://jasoseol.com"
   ]
  },
  {
   "cell_type": "markdown",
   "metadata": {},
   "source": [
    "### \\[2강] 모델과 데이터베이스\n",
    "\n",
    "**강의 순서**\n",
    "\n",
    "1. Model & Database\n",
    "\n",
    "2. 데이터베이스 살펴보기\n",
    "\n",
    "3. 모델을 데이터베이스에 반영하기\n",
    "\n"
   ]
  },
  {
   "cell_type": "markdown",
   "metadata": {},
   "source": [
    "### 1. Model & Database\n",
    "\n",
    "django project와 db는 별개로, 상호작용하며 기능을 구현한다.\n",
    "\n",
    "dj와 db는 `SQL`문이라고 db 전용언어를 통해 소통한다. 우리는 django에서 제공하는 `ORM`, python으로 SQL을 쓸 수 있게 번역하는 기능을 사용한다.\n",
    "\n",
    "    -> models.py 에서 class 정의하는 과정"
   ]
  },
  {
   "cell_type": "markdown",
   "metadata": {},
   "source": [
    "DB "
   ]
  },
  {
   "cell_type": "code",
   "execution_count": null,
   "metadata": {},
   "outputs": [],
   "source": []
  }
 ]
}