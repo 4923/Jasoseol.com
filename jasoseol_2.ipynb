{
 "metadata": {
  "language_info": {
   "codemirror_mode": {
    "name": "ipython",
    "version": 3
   },
   "file_extension": ".py",
   "mimetype": "text/x-python",
   "name": "python",
   "nbconvert_exporter": "python",
   "pygments_lexer": "ipython3",
   "version": "3.8.3-final"
  },
  "orig_nbformat": 2,
  "kernelspec": {
   "name": "python38364bit108acccc12be41c290031639643a30de",
   "display_name": "Python 3.8.3 64-bit"
  }
 },
 "nbformat": 4,
 "nbformat_minor": 2,
 "cells": [
  {
   "cell_type": "markdown",
   "metadata": {},
   "source": [
    "## 자소설 닷컴\n",
    "\n",
    "Uni Lion django advanced class\n",
    "\n",
    "Clone coding https://jasoseol.com"
   ]
  },
  {
   "cell_type": "markdown",
   "metadata": {},
   "source": [
    "### \\[2강] 모델과 데이터베이스\n",
    "\n",
    "**강의 순서**\n",
    "\n",
    "1. Model & Database\n",
    "\n",
    "2. 데이터베이스 살펴보기\n",
    "\n",
    "3. 모델을 데이터베이스에 반영하기\n",
    "\n"
   ]
  },
  {
   "cell_type": "markdown",
   "metadata": {},
   "source": [
    "### 1. Model & Database\n",
    "\n",
    "django project와 db는 별개로, 상호작용하며 기능을 구현한다.\n",
    "\n",
    "dj와 db는 `SQL`문이라고 db 전용언어를 통해 소통한다. 우리는 django에서 제공하는 `ORM`, python으로 SQL을 쓸 수 있게 번역하는 기능을 사용한다.\n",
    "\n",
    "    -> models.py 에서 class 정의하는 과정"
   ]
  },
  {
   "cell_type": "markdown",
   "metadata": {},
   "source": [
    "### 2. DB 살펴보기\n",
    "#### 용어정리\n",
    "\n",
    "1. object\n",
    "\n",
    "    자소서를 작성하면 DB에 데이터가 한 줄 한 줄 차례차례 쌓이다. 여기서 각각의 독립적인 자소서, 데이터는 `object`라고 부른다. \n",
    "\n",
    "2. column\n",
    "\n",
    "    각각의 목록들. title이나 content, updated_ at을 모아서 `column`이라고 부른다\n"
   ]
  },
  {
   "cell_type": "markdown",
   "metadata": {},
   "source": [
    "### 3. Model을 Database에 반영하기\n",
    "\n",
    "`python manage.py makemigrations`\n",
    "\n",
    "`python manage.py migrate`\n",
    "\n",
    "django에서 model을 생성했음을 db에 알리는 과정. migrations라는 폴더 안에 `SQL`번역된 결과가 남는다. 이 번역결과는 임의로 삭제하지 않는 한 폴더에서 지워지지 않는다.\n",
    "\n",
    "* migrations: model의 변경사항 db언어로 번역\n",
    "* migrate: db에 model 적용\n",
    "\n",
    "\n",
    "#### DB의 종류\n",
    "\n",
    "django에서 기본 제공되는 DB. 용량이 좀 작다\n",
    "\n",
    "* SQlite3\n",
    "    \n",
    "이하는 외부 DB: settings.py에서 연결할 수 있다.\n",
    "* My SQL\n",
    "* PostgreSQL\n",
    "* ORACLE\n"
   ]
  },
  {
   "cell_type": "code",
   "execution_count": null,
   "metadata": {},
   "outputs": [],
   "source": []
  }
 ]
}