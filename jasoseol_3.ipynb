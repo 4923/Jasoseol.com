{
 "metadata": {
  "language_info": {
   "codemirror_mode": {
    "name": "ipython",
    "version": 3
   },
   "file_extension": ".py",
   "mimetype": "text/x-python",
   "name": "python",
   "nbconvert_exporter": "python",
   "pygments_lexer": "ipython3",
   "version": 3
  },
  "orig_nbformat": 2
 },
 "nbformat": 4,
 "nbformat_minor": 2,
 "cells": [
  {
   "source": [
    "## 자소설 닷컴\n",
    "\n",
    "Uni Lion django advanced class\n",
    "\n",
    "Clone coding https://jasoseol.com"
   ],
   "cell_type": "markdown",
   "metadata": {}
  },
  {
   "source": [
    "### \\[3강] ModelForm\n",
    "\n",
    "**강의 순서**\n",
    "\n",
    "1. ModelForm을 활용한 create (Crud 중 C)\n",
    "\n",
    "2. ModelForm 속성 제어\n",
    "\n",
    "3. 기본 레이아웃 구성\n",
    "\n"
   ],
   "cell_type": "markdown",
   "metadata": {}
  },
  {
   "source": [
    "### 1. ModelForm\n",
    "\n",
    "django를 생산성 있게 활용하는 방법\n",
    "\n",
    "* 모델에 대응하는 html form을 자동으로 생성\n",
    "* 모델 데이터 유효성 검증 -> 데이터 생성 및 업데이트가 간편\n",
    "* 하지만 폼을 다루는 방법을 알아야 한다."
   ],
   "cell_type": "markdown",
   "metadata": {}
  },
  {
   "source": [
    "1. jjsproject > main에 templates dir를 생성\n",
    "2. templates 안에 홈 화면에 띄워 줄 `index.html`을 생성한다\n",
    "3. 메인 화면에 띄워주는 함수를 생성하기 위해\n",
    "4. `views.py`에서 index 라는 이름의 함수 정의: `index(request)`\n",
    "6. `urls.py`에서 함수를 실행할 url 생성\n",
    "    * **먼저** views에서 정의한 함수 index를 불러온다.\n",
    "        `from main.views import index`\n",
    "    * `path('',index, name=\"index\"),`\n",
    "        * `''` 요청이 아무것도 들어오지 않았을 때\n",
    "        * `index` 라는 함수를 실행하고\n",
    "        * `name = \"index\"` 일련의 과정을 index라고 명명한다.\n",
    "    "
   ],
   "cell_type": "markdown",
   "metadata": {}
  },
  {
   "source": [
    "**index 화면 디자인**\n",
    "\n",
    "(1) index.html에 버튼 만들고"
   ],
   "cell_type": "markdown",
   "metadata": {}
  }
 ]
}