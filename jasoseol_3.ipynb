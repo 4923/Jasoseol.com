{
 "metadata": {
  "language_info": {
   "codemirror_mode": {
    "name": "ipython",
    "version": 3
   },
   "file_extension": ".py",
   "mimetype": "text/x-python",
   "name": "python",
   "nbconvert_exporter": "python",
   "pygments_lexer": "ipython3",
   "version": 3
  },
  "orig_nbformat": 2
 },
 "nbformat": 4,
 "nbformat_minor": 2,
 "cells": [
  {
   "source": [
    "## 자소설 닷컴\n",
    "\n",
    "Uni Lion django advanced class\n",
    "\n",
    "Clone coding https://jasoseol.com"
   ],
   "cell_type": "markdown",
   "metadata": {}
  },
  {
   "source": [
    "### \\[3강] ModelForm\n",
    "\n",
    "**강의 순서**\n",
    "\n",
    "1. ModelForm을 활용한 create (Crud 중 C)\n",
    "\n",
    "2. ModelForm 속성 제어\n",
    "\n",
    "3. 기본 레이아웃 구성\n",
    "\n"
   ],
   "cell_type": "markdown",
   "metadata": {}
  }
 ]
}