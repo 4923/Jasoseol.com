{
 "metadata": {
  "language_info": {
   "codemirror_mode": {
    "name": "ipython",
    "version": 3
   },
   "file_extension": ".py",
   "mimetype": "text/x-python",
   "name": "python",
   "nbconvert_exporter": "python",
   "pygments_lexer": "ipython3",
   "version": 3
  },
  "orig_nbformat": 2
 },
 "nbformat": 4,
 "nbformat_minor": 2,
 "cells": [
  {
   "source": [
    "## 자소설 닷컴\n",
    "\n",
    "Uni Lion django advanced class\n",
    "\n",
    "Clone coding https://jasoseol.com"
   ],
   "cell_type": "markdown",
   "metadata": {}
  },
  {
   "source": [
    "### \\[3강] ModelForm\n",
    "\n",
    "**강의 순서**\n",
    "\n",
    "1. ModelForm을 활용한 create (Crud 중 C)\n",
    "\n",
    "2. ModelForm 속성 제어\n",
    "\n",
    "3. 기본 레이아웃 구성\n"
   ],
   "cell_type": "markdown",
   "metadata": {}
  },
  {
   "source": [
    "Model: django를 생산성 있게 활용하는 방법\n",
    "\n",
    "* 모델에 대응하는 html form을 자동으로 생성 -> 일일이 작성할 필요 X 생산성 ↑\n",
    "* 모델 데이터 유효성 검증 -> 데이터 생성 및 업데이트가 간편\n",
    "* 하지만 폼을 다루는 방법을 알아야 한다."
   ],
   "cell_type": "markdown",
   "metadata": {}
  },
  {
   "source": [
    "### [1. Basic settings: index.html](https://www.notion.so/index-html-6582b7a322764495a25151411eee6da8)"
   ],
   "cell_type": "markdown",
   "metadata": {}
  },
  {
   "source": [
    "1. jjsproject > main에 templates dir를 생성\n",
    "2. templates 안에 홈 화면에 띄워 줄 `index.html`을 생성한다\n",
    "3. 메인 화면에 띄워주는 함수를 생성하기 위해\n",
    "4. `views.py`에서 index 라는 이름의 함수 정의: `index(request)`\n",
    "5. `urls.py`에서 함수를 실행할 url 생성\n",
    "    * **먼저** views에서 정의한 함수 index를 불러온다.\n",
    "        `from main.views import index`\n",
    "    * `path('',index, name=\"index\"),`\n",
    "        * `''` 요청이 아무것도 들어오지 않았을 때\n",
    "        * `index` 라는 함수를 실행하고\n",
    "        * `name = \"index\"` 일련의 과정을 index라고 명명한다.\n",
    "    "
   ],
   "cell_type": "markdown",
   "metadata": {}
  },
  {
   "source": [
    "### [2. ModelForm](https://www.notion.so/7ec0fb34679645ecb2651ea7897edf59)\n",
    "\n",
    "* **models.py**에서 class를 생성한다\n",
    "    * 네이밍 컨벤션에 유의하며 본 강좌에서는 의미단위로 이름을 정하고 이를 대문자로 표기하는 파스칼 케이스 PascalCase를 사용한다.\n",
    "    * 유사하지만 다른 표기법으로는 카멜표기법 camelCase이 있다."
   ],
   "cell_type": "markdown",
   "metadata": {}
  },
  {
   "source": [
    "1. **models**의 **Model class**를 **상속**받기 때문에 첫줄은 `class Jasoseol(models.Model):`가 된다.\n",
    "    - 최상단에 `from django.db import models`를 받아왔기 때문에 가능함\n",
    "2. **title**이라는 속성은 **Charfield** 타입을 사용할것이고, **Charfield**는 **max_length**를 필수인자로 사용한다. 제목이니 길지 않게 50자로 제한하자.\n",
    "\n",
    "    따라서 두번째줄은 `title = models.CharField(max_length = 50)` 가 된다.\n",
    "\n",
    "    - **max_length**는 필드 옵션으로 필드마다 요구하는 고유 옵션이다. (blank, default, validators ... 등이 있다.)\n",
    "3. **content**는 **title**보다는 긴 문자열을 담을 것이기 때문에 **Textfield** 타입을 사용하며 이 타입은 고유 필드 옵션이 없다.\n",
    "    - [[2 & 3] Charfield vs Textfield / RDBMS, SQL? 노션 페이지 메모 참고](https://www.notion.so/7ec0fb34679645ecb2651ea7897edf59)\n",
    "4. 업데이트 된 시간과 날짜를 자동으로 적용하기 위해 **updated_at**을 만든다.\n",
    "\n",
    "    날짜와 시간을 받을 수 있는 **field**가 필요하므로 **DateTimeField**타입을 사용한다. 이 타입은 자동으로 시간과 날짜를 저장하는 **auto_now**를 고유 필드 옵션으로 요구한다.\n",
    "\n",
    "    따라서 세번째 줄은`updated_at = models.DateTimeField(auto_now=True)`가 된다."
   ],
   "cell_type": "markdown",
   "metadata": {}
  },
  {
   "source": [
    "```python\n",
    "\n",
    "# 요약 및 전체 코드\n",
    "\n",
    "from django.db import models\n",
    "\n",
    "# class 이름은 첫글자 대문자, 의미단위 (PascalCase)\n",
    "# Model을 상속받아 model 만든다\n",
    "class Jasoseol(models.Model):\n",
    "  title = models.CharField(max_length = 50)\n",
    "  # CharField는 항상 max_length를 정해줘야한다\n",
    "  content = models.TextField()\n",
    "  # TextField()는 max_length를 필수인자로 받지 않는다.\n",
    "  updated_at = models.DateTimeField(auto_now=True)\n",
    "  # auto_now=True: 업데이트 된 시간과 날짜를 자동으로 updated_at에 저장함\n",
    "  ```"
   ],
   "cell_type": "markdown",
   "metadata": {}
  },
  {
   "source": [
    "##### 다양한 Field들\n",
    "\n",
    "- Django에서 사용하는 Field 목록\n",
    "    - Primary Key: Auto Field\n",
    "    - 문자열: CharField, TextField, SlugField\n",
    "    - 숫자: IntegerField, PositiveIntegerField, FloatField\n",
    "    - 날짜/시간: DateField, TimeField, DateTimeField\n",
    "    - 참/거짓: BooleanField, NullBooleanField\n",
    "    - 파일: FileField, ImageField, FilePathField"
   ],
   "cell_type": "markdown",
   "metadata": {}
  },
  {
   "source": [
    "### 2. 모델을 만들었으므로 makemigrations → migrate\n",
    "\n",
    "```python\n",
    "# 일부 명령어는 탭으로 자동완성 할 수 있음\n",
    "\n",
    "python manage.py makemigrations  # migration 폴더에 파일을 생성\n",
    "python manage.py migrate  # DB.SQLite3에 번역 파일을 토대로 모델을 연결\n",
    "```"
   ],
   "cell_type": "markdown",
   "metadata": {}
  },
  {
   "source": [
    "##### 데이터베이스를 들여다보기\n",
    "\n",
    "1. **admin.py**에 자소서 모델을 등록하기\n",
    "\n",
    "    ```python\n",
    "    from .models import Jasoseol\n",
    "\n",
    "    admin.site.register(Jasoseol) \n",
    "    ```\n",
    "2. createsuperuser로 관리자 계정을 만든 후\n",
    "3. 로컬주소/admin에서 확인\n",
    "4. 데이터를 입력하고 저장하기 (이 일련의 데이터를 obejct라고 부른다.)"
   ],
   "cell_type": "markdown",
   "metadata": {}
  }
 ]
}