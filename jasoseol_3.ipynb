{
 "metadata": {
  "language_info": {
   "codemirror_mode": {
    "name": "ipython",
    "version": 3
   },
   "file_extension": ".py",
   "mimetype": "text/x-python",
   "name": "python",
   "nbconvert_exporter": "python",
   "pygments_lexer": "ipython3",
   "version": 3
  },
  "orig_nbformat": 2
 },
 "nbformat": 4,
 "nbformat_minor": 2,
 "cells": [
  {
   "source": [
    "## 자소설 닷컴\n",
    "\n",
    "Uni Lion django advanced class\n",
    "\n",
    "Clone coding https://jasoseol.com"
   ],
   "cell_type": "markdown",
   "metadata": {}
  },
  {
   "source": [
    "### \\[3강] ModelForm\n",
    "\n",
    "**강의 순서**\n",
    "\n",
    "1. ModelForm을 활용한 create (Crud 중 C)\n",
    "\n",
    "2. ModelForm 속성 제어\n",
    "\n",
    "3. 기본 레이아웃 구성\n",
    "\n"
   ],
   "cell_type": "markdown",
   "metadata": {}
  },
  {
   "source": [
    "### 1. ModelForm\n",
    "\n",
    "django를 생산성 있게 활용하는 방법\n",
    "\n",
    "* 모델에 대응하는 html form을 자동으로 생성\n",
    "* 모델 데이터 유효성 검증 -> 데이터 생성 및 업데이트가 간편\n",
    "* 하지만 폼을 다루는 방법을 알아야 한다."
   ],
   "cell_type": "markdown",
   "metadata": {}
  }
 ]
}